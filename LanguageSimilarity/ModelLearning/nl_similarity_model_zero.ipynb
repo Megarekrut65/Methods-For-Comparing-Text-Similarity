{
 "cells": [
  {
   "cell_type": "code",
   "id": "initial_id",
   "metadata": {
    "collapsed": true,
    "ExecuteTime": {
     "end_time": "2025-05-05T15:18:30.585476Z",
     "start_time": "2025-05-05T15:18:12.465730Z"
    }
   },
   "source": "!pip install pytorch-lightning scikit-learn",
   "outputs": [
    {
     "name": "stdout",
     "output_type": "stream",
     "text": [
      "Collecting pytorch-lightning\n",
      "  Obtaining dependency information for pytorch-lightning from https://files.pythonhosted.org/packages/de/a9/e14821cfaf08e8d78185cca0477c9d3a62bafe1b4b530100f7b66bb1f7bb/pytorch_lightning-2.5.1.post0-py3-none-any.whl.metadata\n",
      "  Downloading pytorch_lightning-2.5.1.post0-py3-none-any.whl.metadata (20 kB)\n",
      "Requirement already satisfied: scikit-learn in e:\\venvs\\mfcts-project\\lib\\site-packages (1.6.1)\n",
      "Requirement already satisfied: torch>=2.1.0 in e:\\venvs\\mfcts-project\\lib\\site-packages (from pytorch-lightning) (2.5.1+cu121)\n",
      "Requirement already satisfied: tqdm>=4.57.0 in e:\\venvs\\mfcts-project\\lib\\site-packages (from pytorch-lightning) (4.67.1)\n",
      "Requirement already satisfied: PyYAML>=5.4 in e:\\venvs\\mfcts-project\\lib\\site-packages (from pytorch-lightning) (6.0.2)\n",
      "Requirement already satisfied: fsspec[http]>=2022.5.0 in e:\\venvs\\mfcts-project\\lib\\site-packages (from pytorch-lightning) (2024.12.0)\n",
      "Collecting torchmetrics>=0.7.0 (from pytorch-lightning)\n",
      "  Obtaining dependency information for torchmetrics>=0.7.0 from https://files.pythonhosted.org/packages/e0/ee/4d0a7213a6f412afb3483031009a3b970dd7bed3be24de95ab04fba1c05a/torchmetrics-1.7.1-py3-none-any.whl.metadata\n",
      "  Downloading torchmetrics-1.7.1-py3-none-any.whl.metadata (21 kB)\n",
      "Requirement already satisfied: packaging>=20.0 in e:\\venvs\\mfcts-project\\lib\\site-packages (from pytorch-lightning) (25.0)\n",
      "Requirement already satisfied: typing-extensions>=4.4.0 in e:\\venvs\\mfcts-project\\lib\\site-packages (from pytorch-lightning) (4.13.2)\n",
      "Collecting lightning-utilities>=0.10.0 (from pytorch-lightning)\n",
      "  Obtaining dependency information for lightning-utilities>=0.10.0 from https://files.pythonhosted.org/packages/1a/c1/31b3184cba7b257a4a3b5ca5b88b9204ccb7aa02fe3c992280899293ed54/lightning_utilities-0.14.3-py3-none-any.whl.metadata\n",
      "  Downloading lightning_utilities-0.14.3-py3-none-any.whl.metadata (5.6 kB)\n",
      "Requirement already satisfied: numpy>=1.19.5 in e:\\venvs\\mfcts-project\\lib\\site-packages (from scikit-learn) (2.1.3)\n",
      "Requirement already satisfied: scipy>=1.6.0 in e:\\venvs\\mfcts-project\\lib\\site-packages (from scikit-learn) (1.15.2)\n",
      "Requirement already satisfied: joblib>=1.2.0 in e:\\venvs\\mfcts-project\\lib\\site-packages (from scikit-learn) (1.4.2)\n",
      "Requirement already satisfied: threadpoolctl>=3.1.0 in e:\\venvs\\mfcts-project\\lib\\site-packages (from scikit-learn) (3.6.0)\n",
      "Requirement already satisfied: aiohttp!=4.0.0a0,!=4.0.0a1 in e:\\venvs\\mfcts-project\\lib\\site-packages (from fsspec[http]>=2022.5.0->pytorch-lightning) (3.11.18)\n",
      "Requirement already satisfied: setuptools in e:\\venvs\\mfcts-project\\lib\\site-packages (from lightning-utilities>=0.10.0->pytorch-lightning) (79.0.0)\n",
      "Requirement already satisfied: filelock in e:\\venvs\\mfcts-project\\lib\\site-packages (from torch>=2.1.0->pytorch-lightning) (3.18.0)\n",
      "Requirement already satisfied: networkx in e:\\venvs\\mfcts-project\\lib\\site-packages (from torch>=2.1.0->pytorch-lightning) (3.4.2)\n",
      "Requirement already satisfied: jinja2 in e:\\venvs\\mfcts-project\\lib\\site-packages (from torch>=2.1.0->pytorch-lightning) (3.1.6)\n",
      "Requirement already satisfied: sympy==1.13.1 in e:\\venvs\\mfcts-project\\lib\\site-packages (from torch>=2.1.0->pytorch-lightning) (1.13.1)\n",
      "Requirement already satisfied: mpmath<1.4,>=1.1.0 in e:\\venvs\\mfcts-project\\lib\\site-packages (from sympy==1.13.1->torch>=2.1.0->pytorch-lightning) (1.3.0)\n",
      "Requirement already satisfied: colorama in e:\\venvs\\mfcts-project\\lib\\site-packages (from tqdm>=4.57.0->pytorch-lightning) (0.4.6)\n",
      "Requirement already satisfied: aiohappyeyeballs>=2.3.0 in e:\\venvs\\mfcts-project\\lib\\site-packages (from aiohttp!=4.0.0a0,!=4.0.0a1->fsspec[http]>=2022.5.0->pytorch-lightning) (2.6.1)\n",
      "Requirement already satisfied: aiosignal>=1.1.2 in e:\\venvs\\mfcts-project\\lib\\site-packages (from aiohttp!=4.0.0a0,!=4.0.0a1->fsspec[http]>=2022.5.0->pytorch-lightning) (1.3.2)\n",
      "Requirement already satisfied: attrs>=17.3.0 in e:\\venvs\\mfcts-project\\lib\\site-packages (from aiohttp!=4.0.0a0,!=4.0.0a1->fsspec[http]>=2022.5.0->pytorch-lightning) (25.3.0)\n",
      "Requirement already satisfied: frozenlist>=1.1.1 in e:\\venvs\\mfcts-project\\lib\\site-packages (from aiohttp!=4.0.0a0,!=4.0.0a1->fsspec[http]>=2022.5.0->pytorch-lightning) (1.6.0)\n",
      "Requirement already satisfied: multidict<7.0,>=4.5 in e:\\venvs\\mfcts-project\\lib\\site-packages (from aiohttp!=4.0.0a0,!=4.0.0a1->fsspec[http]>=2022.5.0->pytorch-lightning) (6.4.3)\n",
      "Requirement already satisfied: propcache>=0.2.0 in e:\\venvs\\mfcts-project\\lib\\site-packages (from aiohttp!=4.0.0a0,!=4.0.0a1->fsspec[http]>=2022.5.0->pytorch-lightning) (0.3.1)\n",
      "Requirement already satisfied: yarl<2.0,>=1.17.0 in e:\\venvs\\mfcts-project\\lib\\site-packages (from aiohttp!=4.0.0a0,!=4.0.0a1->fsspec[http]>=2022.5.0->pytorch-lightning) (1.20.0)\n",
      "Requirement already satisfied: MarkupSafe>=2.0 in e:\\venvs\\mfcts-project\\lib\\site-packages (from jinja2->torch>=2.1.0->pytorch-lightning) (3.0.2)\n",
      "Requirement already satisfied: idna>=2.0 in e:\\venvs\\mfcts-project\\lib\\site-packages (from yarl<2.0,>=1.17.0->aiohttp!=4.0.0a0,!=4.0.0a1->fsspec[http]>=2022.5.0->pytorch-lightning) (3.10)\n",
      "Downloading pytorch_lightning-2.5.1.post0-py3-none-any.whl (823 kB)\n",
      "   ---------------------------------------- 0.0/823.1 kB ? eta -:--:--\n",
      "   - -------------------------------------- 30.7/823.1 kB 1.4 MB/s eta 0:00:01\n",
      "   ---- ----------------------------------- 92.2/823.1 kB 1.3 MB/s eta 0:00:01\n",
      "   ------- -------------------------------- 153.6/823.1 kB 1.5 MB/s eta 0:00:01\n",
      "   -------------- ------------------------- 307.2/823.1 kB 1.9 MB/s eta 0:00:01\n",
      "   ------------------- -------------------- 399.4/823.1 kB 1.9 MB/s eta 0:00:01\n",
      "   --------------------------- ------------ 563.2/823.1 kB 2.2 MB/s eta 0:00:01\n",
      "   ---------------------------------- ----- 706.6/823.1 kB 2.5 MB/s eta 0:00:01\n",
      "   ---------------------------------------- 823.1/823.1 kB 2.5 MB/s eta 0:00:00\n",
      "Downloading lightning_utilities-0.14.3-py3-none-any.whl (28 kB)\n",
      "Downloading torchmetrics-1.7.1-py3-none-any.whl (961 kB)\n",
      "   ---------------------------------------- 0.0/961.5 kB ? eta -:--:--\n",
      "   ----- ---------------------------------- 122.9/961.5 kB 7.5 MB/s eta 0:00:01\n",
      "   --------------- ------------------------ 378.9/961.5 kB 4.7 MB/s eta 0:00:01\n",
      "   ------------------------------ --------- 737.3/961.5 kB 5.8 MB/s eta 0:00:01\n",
      "   ---------------------------------------  952.3/961.5 kB 5.5 MB/s eta 0:00:01\n",
      "   ---------------------------------------- 961.5/961.5 kB 5.6 MB/s eta 0:00:00\n",
      "Installing collected packages: lightning-utilities, torchmetrics, pytorch-lightning\n",
      "Successfully installed lightning-utilities-0.14.3 pytorch-lightning-2.5.1.post0 torchmetrics-1.7.1\n"
     ]
    },
    {
     "name": "stderr",
     "output_type": "stream",
     "text": [
      "\n",
      "[notice] A new release of pip is available: 23.2.1 -> 25.1\n",
      "[notice] To update, run: python.exe -m pip install --upgrade pip\n"
     ]
    }
   ],
   "execution_count": 1
  },
  {
   "metadata": {
    "ExecuteTime": {
     "end_time": "2025-05-05T15:21:01.631710Z",
     "start_time": "2025-05-05T15:21:01.627177Z"
    }
   },
   "cell_type": "code",
   "source": [
    "import pandas as pd\n",
    "import torch\n",
    "import torch.nn as nn\n",
    "from torch.utils.data import Dataset, DataLoader\n",
    "from sklearn.feature_extraction.text import TfidfVectorizer\n",
    "from sklearn.model_selection import train_test_split\n",
    "import pytorch_lightning as pl\n",
    "import joblib"
   ],
   "id": "6abeaf48b64ff22",
   "outputs": [],
   "execution_count": 3
  },
  {
   "metadata": {
    "ExecuteTime": {
     "end_time": "2025-05-05T15:21:06.769557Z",
     "start_time": "2025-05-05T15:21:06.597091Z"
    }
   },
   "cell_type": "code",
   "source": [
    "df = pd.read_csv(\"Input/pairs.csv\")\n",
    "train_df, test_df = train_test_split(df, test_size=0.2, random_state=42)\n",
    "\n",
    "texts = pd.concat([df[\"text1\"], df[\"text2\"]])\n",
    "vectorizer = TfidfVectorizer(max_features=5000)\n",
    "vectorizer.fit(texts)\n",
    "\n",
    "def vectorize_pair(text1, text2):\n",
    "    vec1 = vectorizer.transform([text1]).toarray()[0]\n",
    "    vec2 = vectorizer.transform([text2]).toarray()[0]\n",
    "    return vec1, vec2\n"
   ],
   "id": "cb8230b4b7aff397",
   "outputs": [],
   "execution_count": 4
  },
  {
   "metadata": {
    "ExecuteTime": {
     "end_time": "2025-05-05T15:21:29.860718Z",
     "start_time": "2025-05-05T15:21:29.854602Z"
    }
   },
   "cell_type": "code",
   "source": [
    "class SimilarityDataset(Dataset):\n",
    "    def __init__(self, dataframe):\n",
    "        self.samples = []\n",
    "        for _, row in dataframe.iterrows():\n",
    "            x1, x2 = vectorize_pair(row[\"text1\"], row[\"text2\"])\n",
    "            label = float(row[\"similarity\"])\n",
    "            self.samples.append((x1, x2, label))\n",
    "\n",
    "    def __len__(self):\n",
    "        return len(self.samples)\n",
    "\n",
    "    def __getitem__(self, idx):\n",
    "        x1, x2, label = self.samples[idx]\n",
    "        return (\n",
    "            torch.tensor(x1, dtype=torch.float32),\n",
    "            torch.tensor(x2, dtype=torch.float32),\n",
    "            torch.tensor(label, dtype=torch.float32)\n",
    "        )\n"
   ],
   "id": "80d7ddbb63f1f1cb",
   "outputs": [],
   "execution_count": 5
  },
  {
   "metadata": {
    "ExecuteTime": {
     "end_time": "2025-05-05T15:21:32.437239Z",
     "start_time": "2025-05-05T15:21:32.431897Z"
    }
   },
   "cell_type": "code",
   "source": [
    "class SimilarityModel(pl.LightningModule):\n",
    "    def __init__(self, input_dim):\n",
    "        super().__init__()\n",
    "        self.model = nn.Sequential(\n",
    "            nn.Linear(input_dim * 2, 256),\n",
    "            nn.ReLU(),\n",
    "            nn.Linear(256, 1),\n",
    "            nn.Sigmoid()\n",
    "        )\n",
    "        self.loss_fn = nn.MSELoss()\n",
    "\n",
    "    def forward(self, x1, x2):\n",
    "        x = torch.cat((x1, x2), dim=1)\n",
    "        return self.model(x)\n",
    "\n",
    "    def training_step(self, batch, batch_idx):\n",
    "        x1, x2, y = batch\n",
    "        preds = self(x1, x2).squeeze()\n",
    "        loss = self.loss_fn(preds, y)\n",
    "        self.log(\"train_loss\", loss, prog_bar=True)\n",
    "        return loss\n",
    "\n",
    "    def configure_optimizers(self):\n",
    "        return torch.optim.Adam(self.parameters(), lr=1e-3)\n"
   ],
   "id": "e780ee046e733398",
   "outputs": [],
   "execution_count": 6
  },
  {
   "metadata": {
    "ExecuteTime": {
     "end_time": "2025-05-05T15:22:10.765541Z",
     "start_time": "2025-05-05T15:21:34.794955Z"
    }
   },
   "cell_type": "code",
   "source": [
    "input_dim = 5000\n",
    "train_ds = SimilarityDataset(train_df)\n",
    "train_loader = DataLoader(train_ds, batch_size=32, shuffle=True)\n",
    "\n",
    "model = SimilarityModel(input_dim=input_dim)\n",
    "\n",
    "trainer = pl.Trainer(max_epochs=5)\n",
    "trainer.fit(model, train_loader)\n"
   ],
   "id": "9f8fdaca8dcb5fab",
   "outputs": [
    {
     "name": "stderr",
     "output_type": "stream",
     "text": [
      "Using default `ModelCheckpoint`. Consider installing `litmodels` package to enable `LitModelCheckpoint` for automatic upload to the Lightning model registry.\n",
      "GPU available: True (cuda), used: True\n",
      "TPU available: False, using: 0 TPU cores\n",
      "HPU available: False, using: 0 HPUs\n",
      "LOCAL_RANK: 0 - CUDA_VISIBLE_DEVICES: [0]\n",
      "\n",
      "  | Name    | Type       | Params | Mode \n",
      "-----------------------------------------------\n",
      "0 | model   | Sequential | 2.6 M  | train\n",
      "1 | loss_fn | MSELoss    | 0      | train\n",
      "-----------------------------------------------\n",
      "2.6 M     Trainable params\n",
      "0         Non-trainable params\n",
      "2.6 M     Total params\n",
      "10.242    Total estimated model params size (MB)\n",
      "6         Modules in train mode\n",
      "0         Modules in eval mode\n",
      "E:\\Venvs\\MFCTS-Project\\Lib\\site-packages\\pytorch_lightning\\trainer\\connectors\\data_connector.py:425: The 'train_dataloader' does not have many workers which may be a bottleneck. Consider increasing the value of the `num_workers` argument` to `num_workers=15` in the `DataLoader` to improve performance.\n"
     ]
    },
    {
     "name": "stdout",
     "output_type": "stream",
     "text": [
      "Epoch 4: 100%|██████████| 50/50 [00:00<00:00, 67.55it/s, v_num=0, train_loss=0.106] "
     ]
    },
    {
     "name": "stderr",
     "output_type": "stream",
     "text": [
      "`Trainer.fit` stopped: `max_epochs=5` reached.\n"
     ]
    },
    {
     "name": "stdout",
     "output_type": "stream",
     "text": [
      "Epoch 4: 100%|██████████| 50/50 [00:00<00:00, 58.89it/s, v_num=0, train_loss=0.106]\n"
     ]
    }
   ],
   "execution_count": 7
  },
  {
   "metadata": {
    "ExecuteTime": {
     "end_time": "2025-05-05T15:28:32.855654Z",
     "start_time": "2025-05-05T15:28:32.707643Z"
    }
   },
   "cell_type": "code",
   "source": [
    "# Зберігає всі параметри моделі\n",
    "trainer.save_checkpoint(\"Models/zero_similarity_model.ckpt\")\n",
    "joblib.dump(vectorizer, \"Models/zero_vectorizer.joblib\")"
   ],
   "id": "5000a9215fa91077",
   "outputs": [
    {
     "data": {
      "text/plain": [
       "['Models/zero_vectorizer.joblib']"
      ]
     },
     "execution_count": 8,
     "metadata": {},
     "output_type": "execute_result"
    }
   ],
   "execution_count": 8
  }
 ],
 "metadata": {
  "kernelspec": {
   "display_name": "Python 3",
   "language": "python",
   "name": "python3"
  },
  "language_info": {
   "codemirror_mode": {
    "name": "ipython",
    "version": 2
   },
   "file_extension": ".py",
   "mimetype": "text/x-python",
   "name": "python",
   "nbconvert_exporter": "python",
   "pygments_lexer": "ipython2",
   "version": "2.7.6"
  }
 },
 "nbformat": 4,
 "nbformat_minor": 5
}
