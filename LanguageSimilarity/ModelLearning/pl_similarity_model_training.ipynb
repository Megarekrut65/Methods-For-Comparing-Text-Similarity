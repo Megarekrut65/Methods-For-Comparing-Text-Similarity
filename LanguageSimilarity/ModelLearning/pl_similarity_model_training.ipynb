{
 "cells": [
  {
   "metadata": {
    "ExecuteTime": {
     "end_time": "2025-05-01T08:01:02.841198Z",
     "start_time": "2025-05-01T08:00:44.760332Z"
    }
   },
   "cell_type": "code",
   "source": [
    "! pip install accelerate\n",
    "! pip install transformers\n",
    "! pip install torch\n",
    "! pip install sentence-transformers\n",
    "! pip install pandas\n",
    "! pip install datasets"
   ],
   "id": "573eaebf7c1b20b4",
   "outputs": [
    {
     "name": "stdout",
     "output_type": "stream",
     "text": [
      "Requirement already satisfied: accelerate in e:\\venvs\\mfcts-project\\lib\\site-packages (1.6.0)\n",
      "Requirement already satisfied: numpy<3.0.0,>=1.17 in e:\\venvs\\mfcts-project\\lib\\site-packages (from accelerate) (2.1.3)\n",
      "Requirement already satisfied: packaging>=20.0 in e:\\venvs\\mfcts-project\\lib\\site-packages (from accelerate) (25.0)\n",
      "Requirement already satisfied: psutil in e:\\venvs\\mfcts-project\\lib\\site-packages (from accelerate) (7.0.0)\n",
      "Requirement already satisfied: pyyaml in e:\\venvs\\mfcts-project\\lib\\site-packages (from accelerate) (6.0.2)\n",
      "Requirement already satisfied: torch>=2.0.0 in e:\\venvs\\mfcts-project\\lib\\site-packages (from accelerate) (2.5.1+cu121)\n",
      "Requirement already satisfied: huggingface-hub>=0.21.0 in e:\\venvs\\mfcts-project\\lib\\site-packages (from accelerate) (0.30.2)\n",
      "Requirement already satisfied: safetensors>=0.4.3 in e:\\venvs\\mfcts-project\\lib\\site-packages (from accelerate) (0.5.3)\n",
      "Requirement already satisfied: filelock in e:\\venvs\\mfcts-project\\lib\\site-packages (from huggingface-hub>=0.21.0->accelerate) (3.18.0)\n",
      "Requirement already satisfied: fsspec>=2023.5.0 in e:\\venvs\\mfcts-project\\lib\\site-packages (from huggingface-hub>=0.21.0->accelerate) (2024.12.0)\n",
      "Requirement already satisfied: requests in e:\\venvs\\mfcts-project\\lib\\site-packages (from huggingface-hub>=0.21.0->accelerate) (2.32.3)\n",
      "Requirement already satisfied: tqdm>=4.42.1 in e:\\venvs\\mfcts-project\\lib\\site-packages (from huggingface-hub>=0.21.0->accelerate) (4.67.1)\n",
      "Requirement already satisfied: typing-extensions>=3.7.4.3 in e:\\venvs\\mfcts-project\\lib\\site-packages (from huggingface-hub>=0.21.0->accelerate) (4.13.2)\n",
      "Requirement already satisfied: networkx in e:\\venvs\\mfcts-project\\lib\\site-packages (from torch>=2.0.0->accelerate) (3.4.2)\n",
      "Requirement already satisfied: jinja2 in e:\\venvs\\mfcts-project\\lib\\site-packages (from torch>=2.0.0->accelerate) (3.1.6)\n",
      "Requirement already satisfied: setuptools in e:\\venvs\\mfcts-project\\lib\\site-packages (from torch>=2.0.0->accelerate) (79.0.0)\n",
      "Requirement already satisfied: sympy==1.13.1 in e:\\venvs\\mfcts-project\\lib\\site-packages (from torch>=2.0.0->accelerate) (1.13.1)\n",
      "Requirement already satisfied: mpmath<1.4,>=1.1.0 in e:\\venvs\\mfcts-project\\lib\\site-packages (from sympy==1.13.1->torch>=2.0.0->accelerate) (1.3.0)\n",
      "Requirement already satisfied: colorama in e:\\venvs\\mfcts-project\\lib\\site-packages (from tqdm>=4.42.1->huggingface-hub>=0.21.0->accelerate) (0.4.6)\n",
      "Requirement already satisfied: MarkupSafe>=2.0 in e:\\venvs\\mfcts-project\\lib\\site-packages (from jinja2->torch>=2.0.0->accelerate) (3.0.2)\n",
      "Requirement already satisfied: charset-normalizer<4,>=2 in e:\\venvs\\mfcts-project\\lib\\site-packages (from requests->huggingface-hub>=0.21.0->accelerate) (3.4.1)\n",
      "Requirement already satisfied: idna<4,>=2.5 in e:\\venvs\\mfcts-project\\lib\\site-packages (from requests->huggingface-hub>=0.21.0->accelerate) (3.10)\n",
      "Requirement already satisfied: urllib3<3,>=1.21.1 in e:\\venvs\\mfcts-project\\lib\\site-packages (from requests->huggingface-hub>=0.21.0->accelerate) (2.4.0)\n",
      "Requirement already satisfied: certifi>=2017.4.17 in e:\\venvs\\mfcts-project\\lib\\site-packages (from requests->huggingface-hub>=0.21.0->accelerate) (2025.1.31)\n"
     ]
    },
    {
     "name": "stderr",
     "output_type": "stream",
     "text": [
      "\n",
      "[notice] A new release of pip is available: 23.2.1 -> 25.1\n",
      "[notice] To update, run: python.exe -m pip install --upgrade pip\n"
     ]
    },
    {
     "name": "stdout",
     "output_type": "stream",
     "text": [
      "Requirement already satisfied: transformers in e:\\venvs\\mfcts-project\\lib\\site-packages (4.51.3)\n",
      "Requirement already satisfied: filelock in e:\\venvs\\mfcts-project\\lib\\site-packages (from transformers) (3.18.0)\n",
      "Requirement already satisfied: huggingface-hub<1.0,>=0.30.0 in e:\\venvs\\mfcts-project\\lib\\site-packages (from transformers) (0.30.2)\n",
      "Requirement already satisfied: numpy>=1.17 in e:\\venvs\\mfcts-project\\lib\\site-packages (from transformers) (2.1.3)\n",
      "Requirement already satisfied: packaging>=20.0 in e:\\venvs\\mfcts-project\\lib\\site-packages (from transformers) (25.0)\n",
      "Requirement already satisfied: pyyaml>=5.1 in e:\\venvs\\mfcts-project\\lib\\site-packages (from transformers) (6.0.2)\n",
      "Requirement already satisfied: regex!=2019.12.17 in e:\\venvs\\mfcts-project\\lib\\site-packages (from transformers) (2024.11.6)\n",
      "Requirement already satisfied: requests in e:\\venvs\\mfcts-project\\lib\\site-packages (from transformers) (2.32.3)\n",
      "Requirement already satisfied: tokenizers<0.22,>=0.21 in e:\\venvs\\mfcts-project\\lib\\site-packages (from transformers) (0.21.1)\n",
      "Requirement already satisfied: safetensors>=0.4.3 in e:\\venvs\\mfcts-project\\lib\\site-packages (from transformers) (0.5.3)\n",
      "Requirement already satisfied: tqdm>=4.27 in e:\\venvs\\mfcts-project\\lib\\site-packages (from transformers) (4.67.1)\n",
      "Requirement already satisfied: fsspec>=2023.5.0 in e:\\venvs\\mfcts-project\\lib\\site-packages (from huggingface-hub<1.0,>=0.30.0->transformers) (2024.12.0)\n",
      "Requirement already satisfied: typing-extensions>=3.7.4.3 in e:\\venvs\\mfcts-project\\lib\\site-packages (from huggingface-hub<1.0,>=0.30.0->transformers) (4.13.2)\n",
      "Requirement already satisfied: colorama in e:\\venvs\\mfcts-project\\lib\\site-packages (from tqdm>=4.27->transformers) (0.4.6)\n",
      "Requirement already satisfied: charset-normalizer<4,>=2 in e:\\venvs\\mfcts-project\\lib\\site-packages (from requests->transformers) (3.4.1)\n",
      "Requirement already satisfied: idna<4,>=2.5 in e:\\venvs\\mfcts-project\\lib\\site-packages (from requests->transformers) (3.10)\n",
      "Requirement already satisfied: urllib3<3,>=1.21.1 in e:\\venvs\\mfcts-project\\lib\\site-packages (from requests->transformers) (2.4.0)\n",
      "Requirement already satisfied: certifi>=2017.4.17 in e:\\venvs\\mfcts-project\\lib\\site-packages (from requests->transformers) (2025.1.31)\n"
     ]
    },
    {
     "name": "stderr",
     "output_type": "stream",
     "text": [
      "\n",
      "[notice] A new release of pip is available: 23.2.1 -> 25.1\n",
      "[notice] To update, run: python.exe -m pip install --upgrade pip\n"
     ]
    },
    {
     "name": "stdout",
     "output_type": "stream",
     "text": [
      "Requirement already satisfied: torch in e:\\venvs\\mfcts-project\\lib\\site-packages (2.5.1+cu121)\n",
      "Requirement already satisfied: filelock in e:\\venvs\\mfcts-project\\lib\\site-packages (from torch) (3.18.0)\n",
      "Requirement already satisfied: typing-extensions>=4.8.0 in e:\\venvs\\mfcts-project\\lib\\site-packages (from torch) (4.13.2)\n",
      "Requirement already satisfied: networkx in e:\\venvs\\mfcts-project\\lib\\site-packages (from torch) (3.4.2)\n",
      "Requirement already satisfied: jinja2 in e:\\venvs\\mfcts-project\\lib\\site-packages (from torch) (3.1.6)\n",
      "Requirement already satisfied: fsspec in e:\\venvs\\mfcts-project\\lib\\site-packages (from torch) (2024.12.0)\n",
      "Requirement already satisfied: setuptools in e:\\venvs\\mfcts-project\\lib\\site-packages (from torch) (79.0.0)\n",
      "Requirement already satisfied: sympy==1.13.1 in e:\\venvs\\mfcts-project\\lib\\site-packages (from torch) (1.13.1)\n",
      "Requirement already satisfied: mpmath<1.4,>=1.1.0 in e:\\venvs\\mfcts-project\\lib\\site-packages (from sympy==1.13.1->torch) (1.3.0)\n",
      "Requirement already satisfied: MarkupSafe>=2.0 in e:\\venvs\\mfcts-project\\lib\\site-packages (from jinja2->torch) (3.0.2)\n"
     ]
    },
    {
     "name": "stderr",
     "output_type": "stream",
     "text": [
      "\n",
      "[notice] A new release of pip is available: 23.2.1 -> 25.1\n",
      "[notice] To update, run: python.exe -m pip install --upgrade pip\n"
     ]
    },
    {
     "name": "stdout",
     "output_type": "stream",
     "text": [
      "Requirement already satisfied: sentence-transformers in e:\\venvs\\mfcts-project\\lib\\site-packages (4.1.0)\n",
      "Requirement already satisfied: transformers<5.0.0,>=4.41.0 in e:\\venvs\\mfcts-project\\lib\\site-packages (from sentence-transformers) (4.51.3)\n",
      "Requirement already satisfied: tqdm in e:\\venvs\\mfcts-project\\lib\\site-packages (from sentence-transformers) (4.67.1)\n",
      "Requirement already satisfied: torch>=1.11.0 in e:\\venvs\\mfcts-project\\lib\\site-packages (from sentence-transformers) (2.5.1+cu121)\n",
      "Requirement already satisfied: scikit-learn in e:\\venvs\\mfcts-project\\lib\\site-packages (from sentence-transformers) (1.6.1)\n",
      "Requirement already satisfied: scipy in e:\\venvs\\mfcts-project\\lib\\site-packages (from sentence-transformers) (1.15.2)\n",
      "Requirement already satisfied: huggingface-hub>=0.20.0 in e:\\venvs\\mfcts-project\\lib\\site-packages (from sentence-transformers) (0.30.2)\n",
      "Requirement already satisfied: Pillow in e:\\venvs\\mfcts-project\\lib\\site-packages (from sentence-transformers) (11.2.1)\n",
      "Requirement already satisfied: typing_extensions>=4.5.0 in e:\\venvs\\mfcts-project\\lib\\site-packages (from sentence-transformers) (4.13.2)\n",
      "Requirement already satisfied: filelock in e:\\venvs\\mfcts-project\\lib\\site-packages (from huggingface-hub>=0.20.0->sentence-transformers) (3.18.0)\n",
      "Requirement already satisfied: fsspec>=2023.5.0 in e:\\venvs\\mfcts-project\\lib\\site-packages (from huggingface-hub>=0.20.0->sentence-transformers) (2024.12.0)\n",
      "Requirement already satisfied: packaging>=20.9 in e:\\venvs\\mfcts-project\\lib\\site-packages (from huggingface-hub>=0.20.0->sentence-transformers) (25.0)\n",
      "Requirement already satisfied: pyyaml>=5.1 in e:\\venvs\\mfcts-project\\lib\\site-packages (from huggingface-hub>=0.20.0->sentence-transformers) (6.0.2)\n",
      "Requirement already satisfied: requests in e:\\venvs\\mfcts-project\\lib\\site-packages (from huggingface-hub>=0.20.0->sentence-transformers) (2.32.3)\n",
      "Requirement already satisfied: networkx in e:\\venvs\\mfcts-project\\lib\\site-packages (from torch>=1.11.0->sentence-transformers) (3.4.2)\n",
      "Requirement already satisfied: jinja2 in e:\\venvs\\mfcts-project\\lib\\site-packages (from torch>=1.11.0->sentence-transformers) (3.1.6)\n",
      "Requirement already satisfied: setuptools in e:\\venvs\\mfcts-project\\lib\\site-packages (from torch>=1.11.0->sentence-transformers) (79.0.0)\n",
      "Requirement already satisfied: sympy==1.13.1 in e:\\venvs\\mfcts-project\\lib\\site-packages (from torch>=1.11.0->sentence-transformers) (1.13.1)\n",
      "Requirement already satisfied: mpmath<1.4,>=1.1.0 in e:\\venvs\\mfcts-project\\lib\\site-packages (from sympy==1.13.1->torch>=1.11.0->sentence-transformers) (1.3.0)\n",
      "Requirement already satisfied: colorama in e:\\venvs\\mfcts-project\\lib\\site-packages (from tqdm->sentence-transformers) (0.4.6)\n",
      "Requirement already satisfied: numpy>=1.17 in e:\\venvs\\mfcts-project\\lib\\site-packages (from transformers<5.0.0,>=4.41.0->sentence-transformers) (2.1.3)\n",
      "Requirement already satisfied: regex!=2019.12.17 in e:\\venvs\\mfcts-project\\lib\\site-packages (from transformers<5.0.0,>=4.41.0->sentence-transformers) (2024.11.6)\n",
      "Requirement already satisfied: tokenizers<0.22,>=0.21 in e:\\venvs\\mfcts-project\\lib\\site-packages (from transformers<5.0.0,>=4.41.0->sentence-transformers) (0.21.1)\n",
      "Requirement already satisfied: safetensors>=0.4.3 in e:\\venvs\\mfcts-project\\lib\\site-packages (from transformers<5.0.0,>=4.41.0->sentence-transformers) (0.5.3)\n",
      "Requirement already satisfied: joblib>=1.2.0 in e:\\venvs\\mfcts-project\\lib\\site-packages (from scikit-learn->sentence-transformers) (1.4.2)\n",
      "Requirement already satisfied: threadpoolctl>=3.1.0 in e:\\venvs\\mfcts-project\\lib\\site-packages (from scikit-learn->sentence-transformers) (3.6.0)\n",
      "Requirement already satisfied: MarkupSafe>=2.0 in e:\\venvs\\mfcts-project\\lib\\site-packages (from jinja2->torch>=1.11.0->sentence-transformers) (3.0.2)\n",
      "Requirement already satisfied: charset-normalizer<4,>=2 in e:\\venvs\\mfcts-project\\lib\\site-packages (from requests->huggingface-hub>=0.20.0->sentence-transformers) (3.4.1)\n",
      "Requirement already satisfied: idna<4,>=2.5 in e:\\venvs\\mfcts-project\\lib\\site-packages (from requests->huggingface-hub>=0.20.0->sentence-transformers) (3.10)\n",
      "Requirement already satisfied: urllib3<3,>=1.21.1 in e:\\venvs\\mfcts-project\\lib\\site-packages (from requests->huggingface-hub>=0.20.0->sentence-transformers) (2.4.0)\n",
      "Requirement already satisfied: certifi>=2017.4.17 in e:\\venvs\\mfcts-project\\lib\\site-packages (from requests->huggingface-hub>=0.20.0->sentence-transformers) (2025.1.31)\n"
     ]
    },
    {
     "name": "stderr",
     "output_type": "stream",
     "text": [
      "\n",
      "[notice] A new release of pip is available: 23.2.1 -> 25.1\n",
      "[notice] To update, run: python.exe -m pip install --upgrade pip\n"
     ]
    },
    {
     "name": "stdout",
     "output_type": "stream",
     "text": [
      "Requirement already satisfied: pandas in e:\\venvs\\mfcts-project\\lib\\site-packages (2.2.3)\n",
      "Requirement already satisfied: numpy>=1.26.0 in e:\\venvs\\mfcts-project\\lib\\site-packages (from pandas) (2.1.3)\n",
      "Requirement already satisfied: python-dateutil>=2.8.2 in e:\\venvs\\mfcts-project\\lib\\site-packages (from pandas) (2.9.0.post0)\n",
      "Requirement already satisfied: pytz>=2020.1 in e:\\venvs\\mfcts-project\\lib\\site-packages (from pandas) (2025.2)\n",
      "Requirement already satisfied: tzdata>=2022.7 in e:\\venvs\\mfcts-project\\lib\\site-packages (from pandas) (2025.2)\n",
      "Requirement already satisfied: six>=1.5 in e:\\venvs\\mfcts-project\\lib\\site-packages (from python-dateutil>=2.8.2->pandas) (1.17.0)\n"
     ]
    },
    {
     "name": "stderr",
     "output_type": "stream",
     "text": [
      "\n",
      "[notice] A new release of pip is available: 23.2.1 -> 25.1\n",
      "[notice] To update, run: python.exe -m pip install --upgrade pip\n"
     ]
    },
    {
     "name": "stdout",
     "output_type": "stream",
     "text": [
      "Requirement already satisfied: datasets in e:\\venvs\\mfcts-project\\lib\\site-packages (3.5.0)\n",
      "Requirement already satisfied: filelock in e:\\venvs\\mfcts-project\\lib\\site-packages (from datasets) (3.18.0)\n",
      "Requirement already satisfied: numpy>=1.17 in e:\\venvs\\mfcts-project\\lib\\site-packages (from datasets) (2.1.3)\n",
      "Requirement already satisfied: pyarrow>=15.0.0 in e:\\venvs\\mfcts-project\\lib\\site-packages (from datasets) (19.0.1)\n",
      "Requirement already satisfied: dill<0.3.9,>=0.3.0 in e:\\venvs\\mfcts-project\\lib\\site-packages (from datasets) (0.3.8)\n",
      "Requirement already satisfied: pandas in e:\\venvs\\mfcts-project\\lib\\site-packages (from datasets) (2.2.3)\n",
      "Requirement already satisfied: requests>=2.32.2 in e:\\venvs\\mfcts-project\\lib\\site-packages (from datasets) (2.32.3)\n",
      "Requirement already satisfied: tqdm>=4.66.3 in e:\\venvs\\mfcts-project\\lib\\site-packages (from datasets) (4.67.1)\n",
      "Requirement already satisfied: xxhash in e:\\venvs\\mfcts-project\\lib\\site-packages (from datasets) (3.5.0)\n",
      "Requirement already satisfied: multiprocess<0.70.17 in e:\\venvs\\mfcts-project\\lib\\site-packages (from datasets) (0.70.16)\n",
      "Requirement already satisfied: fsspec[http]<=2024.12.0,>=2023.1.0 in e:\\venvs\\mfcts-project\\lib\\site-packages (from datasets) (2024.12.0)\n",
      "Requirement already satisfied: aiohttp in e:\\venvs\\mfcts-project\\lib\\site-packages (from datasets) (3.11.18)\n",
      "Requirement already satisfied: huggingface-hub>=0.24.0 in e:\\venvs\\mfcts-project\\lib\\site-packages (from datasets) (0.30.2)\n",
      "Requirement already satisfied: packaging in e:\\venvs\\mfcts-project\\lib\\site-packages (from datasets) (25.0)\n",
      "Requirement already satisfied: pyyaml>=5.1 in e:\\venvs\\mfcts-project\\lib\\site-packages (from datasets) (6.0.2)\n",
      "Requirement already satisfied: aiohappyeyeballs>=2.3.0 in e:\\venvs\\mfcts-project\\lib\\site-packages (from aiohttp->datasets) (2.6.1)\n",
      "Requirement already satisfied: aiosignal>=1.1.2 in e:\\venvs\\mfcts-project\\lib\\site-packages (from aiohttp->datasets) (1.3.2)\n",
      "Requirement already satisfied: attrs>=17.3.0 in e:\\venvs\\mfcts-project\\lib\\site-packages (from aiohttp->datasets) (25.3.0)\n",
      "Requirement already satisfied: frozenlist>=1.1.1 in e:\\venvs\\mfcts-project\\lib\\site-packages (from aiohttp->datasets) (1.6.0)\n",
      "Requirement already satisfied: multidict<7.0,>=4.5 in e:\\venvs\\mfcts-project\\lib\\site-packages (from aiohttp->datasets) (6.4.3)\n",
      "Requirement already satisfied: propcache>=0.2.0 in e:\\venvs\\mfcts-project\\lib\\site-packages (from aiohttp->datasets) (0.3.1)\n",
      "Requirement already satisfied: yarl<2.0,>=1.17.0 in e:\\venvs\\mfcts-project\\lib\\site-packages (from aiohttp->datasets) (1.20.0)\n",
      "Requirement already satisfied: typing-extensions>=3.7.4.3 in e:\\venvs\\mfcts-project\\lib\\site-packages (from huggingface-hub>=0.24.0->datasets) (4.13.2)\n",
      "Requirement already satisfied: charset-normalizer<4,>=2 in e:\\venvs\\mfcts-project\\lib\\site-packages (from requests>=2.32.2->datasets) (3.4.1)\n",
      "Requirement already satisfied: idna<4,>=2.5 in e:\\venvs\\mfcts-project\\lib\\site-packages (from requests>=2.32.2->datasets) (3.10)\n",
      "Requirement already satisfied: urllib3<3,>=1.21.1 in e:\\venvs\\mfcts-project\\lib\\site-packages (from requests>=2.32.2->datasets) (2.4.0)\n",
      "Requirement already satisfied: certifi>=2017.4.17 in e:\\venvs\\mfcts-project\\lib\\site-packages (from requests>=2.32.2->datasets) (2025.1.31)\n",
      "Requirement already satisfied: colorama in e:\\venvs\\mfcts-project\\lib\\site-packages (from tqdm>=4.66.3->datasets) (0.4.6)\n",
      "Requirement already satisfied: python-dateutil>=2.8.2 in e:\\venvs\\mfcts-project\\lib\\site-packages (from pandas->datasets) (2.9.0.post0)\n",
      "Requirement already satisfied: pytz>=2020.1 in e:\\venvs\\mfcts-project\\lib\\site-packages (from pandas->datasets) (2025.2)\n",
      "Requirement already satisfied: tzdata>=2022.7 in e:\\venvs\\mfcts-project\\lib\\site-packages (from pandas->datasets) (2025.2)\n",
      "Requirement already satisfied: six>=1.5 in e:\\venvs\\mfcts-project\\lib\\site-packages (from python-dateutil>=2.8.2->pandas->datasets) (1.17.0)\n"
     ]
    },
    {
     "name": "stderr",
     "output_type": "stream",
     "text": [
      "\n",
      "[notice] A new release of pip is available: 23.2.1 -> 25.1\n",
      "[notice] To update, run: python.exe -m pip install --upgrade pip\n"
     ]
    }
   ],
   "execution_count": 1
  },
  {
   "metadata": {
    "ExecuteTime": {
     "end_time": "2025-05-01T08:02:18.494171Z",
     "start_time": "2025-05-01T08:01:03.032076Z"
    }
   },
   "cell_type": "code",
   "source": [
    "import ast\n",
    "import torch\n",
    "import torch.nn as nn\n",
    "from transformers import AutoTokenizer, AutoModel\n",
    "from torch.utils.data import Dataset, DataLoader, random_split\n",
    "import pandas as pd"
   ],
   "id": "1cae1a3a3b80dc38",
   "outputs": [
    {
     "name": "stderr",
     "output_type": "stream",
     "text": [
      "E:\\Venvs\\MFCTS-Project\\Lib\\site-packages\\tqdm\\auto.py:21: TqdmWarning: IProgress not found. Please update jupyter and ipywidgets. See https://ipywidgets.readthedocs.io/en/stable/user_install.html\n",
      "  from .autonotebook import tqdm as notebook_tqdm\n"
     ]
    }
   ],
   "execution_count": 2
  },
  {
   "metadata": {
    "ExecuteTime": {
     "end_time": "2025-05-01T08:02:19.683215Z",
     "start_time": "2025-05-01T08:02:19.678842Z"
    }
   },
   "cell_type": "code",
   "source": [
    "def ast_tokenizer(code):\n",
    "    try:\n",
    "        tree = ast.parse(code)\n",
    "        tokens = [type(node).__name__ for node in ast.walk(tree)]\n",
    "        return tokens\n",
    "    except:\n",
    "        return []\n",
    "\n",
    "def ast_to_str(tokens):\n",
    "    return ' '.join(tokens)"
   ],
   "id": "c5bd5843ddbc1dd2",
   "outputs": [],
   "execution_count": 3
  },
  {
   "metadata": {
    "ExecuteTime": {
     "end_time": "2025-05-01T08:02:19.695746Z",
     "start_time": "2025-05-01T08:02:19.690390Z"
    }
   },
   "cell_type": "code",
   "source": [
    "class CodeBERTSimilarity(nn.Module):\n",
    "    def __init__(self, model_name=\"microsoft/codebert-base\"):\n",
    "        super().__init__()\n",
    "        self.bert = AutoModel.from_pretrained(model_name)\n",
    "        self.fc = nn.Sequential(\n",
    "            nn.Linear(768, 256),\n",
    "            nn.ReLU(),\n",
    "            nn.Linear(256, 1),\n",
    "            nn.Sigmoid()\n",
    "        )\n",
    "\n",
    "    def encode(self, x):\n",
    "        outputs = self.bert(**x)\n",
    "        return outputs.last_hidden_state[:, 0, :]  # [CLS] токен\n",
    "\n",
    "    def forward(self, x1, x2):\n",
    "        v1 = self.encode(x1)\n",
    "        v2 = self.encode(x2)\n",
    "        diff = torch.abs(v1 - v2)\n",
    "        return self.fc(diff)\n"
   ],
   "id": "99a4317a5eb9090c",
   "outputs": [],
   "execution_count": 4
  },
  {
   "metadata": {
    "ExecuteTime": {
     "end_time": "2025-05-01T08:02:19.711190Z",
     "start_time": "2025-05-01T08:02:19.705286Z"
    }
   },
   "cell_type": "code",
   "source": [
    "class CodeSimilarityDataset(Dataset):\n",
    "    def __init__(self, csv_file, tokenizer, part=1):\n",
    "        self.data = pd.read_csv(csv_file)\n",
    "        self.data = self.data[:len(self.data)//part]\n",
    "        self.tokenizer = tokenizer\n",
    "\n",
    "    def __len__(self):\n",
    "        return len(self.data)\n",
    "\n",
    "    def __getitem__(self, idx):\n",
    "        row = self.data.iloc[idx]\n",
    "        code1 = ast_to_str(ast_tokenizer(row['text1']))\n",
    "        code2 = ast_to_str(ast_tokenizer(row['text2']))\n",
    "        if not code1 or not code2:\n",
    "            return self.__getitem__((idx + 1) % len(self))\n",
    "        \n",
    "        label = torch.tensor([row['similarity']], dtype=torch.float32)\n",
    "\n",
    "        return code1, code2, label"
   ],
   "id": "960c86a66ce3256b",
   "outputs": [],
   "execution_count": 5
  },
  {
   "metadata": {
    "ExecuteTime": {
     "end_time": "2025-05-01T08:02:19.724391Z",
     "start_time": "2025-05-01T08:02:19.719828Z"
    }
   },
   "cell_type": "code",
   "source": [
    "def collate_fn(batch):\n",
    "    codes1, codes2, labels = zip(*batch)\n",
    "    tokenizer = AutoTokenizer.from_pretrained(\"microsoft/codebert-base\")\n",
    "\n",
    "    x1 = tokenizer(list(codes1), return_tensors=\"pt\", truncation=True, padding=True, max_length=512)\n",
    "    x2 = tokenizer(list(codes2), return_tensors=\"pt\", truncation=True, padding=True, max_length=512)\n",
    "    labels = torch.stack(labels)\n",
    "\n",
    "    return x1, x2, labels"
   ],
   "id": "cdbd292333bb5b43",
   "outputs": [],
   "execution_count": 6
  },
  {
   "metadata": {
    "ExecuteTime": {
     "end_time": "2025-05-01T08:02:19.737795Z",
     "start_time": "2025-05-01T08:02:19.733819Z"
    }
   },
   "cell_type": "code",
   "source": [
    "def train(model, dataloader, optimizer, criterion, device):\n",
    "    model.train()\n",
    "    total_loss = 0\n",
    "    for x1, x2, label in dataloader:\n",
    "        for k in x1:\n",
    "            x1[k] = x1[k].to(device)\n",
    "            x2[k] = x2[k].to(device)\n",
    "        label = label.to(device)\n",
    "\n",
    "        optimizer.zero_grad()\n",
    "        output = model(x1, x2)\n",
    "        loss = criterion(output, label)\n",
    "        loss.backward()\n",
    "        optimizer.step()\n",
    "\n",
    "        total_loss += loss.item()\n",
    "\n",
    "    return total_loss / len(dataloader)"
   ],
   "id": "43c4a979f0a50056",
   "outputs": [],
   "execution_count": 7
  },
  {
   "metadata": {
    "ExecuteTime": {
     "end_time": "2025-05-01T08:02:19.750281Z",
     "start_time": "2025-05-01T08:02:19.745616Z"
    }
   },
   "cell_type": "code",
   "source": [
    "def validate(model, dataloader, criterion, device):\n",
    "    model.eval()\n",
    "    total_loss = 0\n",
    "    with torch.no_grad():\n",
    "        for x1, x2, label in dataloader:\n",
    "            for k in x1:\n",
    "                x1[k] = x1[k].to(device)\n",
    "                x2[k] = x2[k].to(device)\n",
    "            label = label.to(device)\n",
    "\n",
    "            output = model(x1, x2)\n",
    "            loss = criterion(output, label)\n",
    "            total_loss += loss.item()\n",
    "\n",
    "    return total_loss / len(dataloader)"
   ],
   "id": "3c98c0751985a164",
   "outputs": [],
   "execution_count": 8
  },
  {
   "metadata": {
    "ExecuteTime": {
     "end_time": "2025-05-01T14:10:03.870364Z",
     "start_time": "2025-05-01T09:03:25.863717Z"
    }
   },
   "cell_type": "code",
   "source": [
    "epochs=3\n",
    "batch_size=8\n",
    "lr=2e-5\n",
    "\n",
    "device = torch.device(\"cuda\" if torch.cuda.is_available() else \"cpu\")\n",
    "\n",
    "tokenizer = AutoTokenizer.from_pretrained(\"microsoft/codebert-base\")\n",
    "model = CodeBERTSimilarity().to(device)\n",
    "\n",
    "dataset = CodeSimilarityDataset(\"Input/pl_pairs.csv\", tokenizer, part=10)\n",
    "train_size = int(0.8 * len(dataset))\n",
    "val_size = len(dataset) - train_size\n",
    "train_dataset, val_dataset = random_split(dataset, [train_size, val_size])\n",
    "\n",
    "train_loader = DataLoader(train_dataset, batch_size=batch_size, shuffle=True, collate_fn=collate_fn)\n",
    "val_loader = DataLoader(val_dataset, batch_size=batch_size, shuffle=False, collate_fn=collate_fn)\n",
    "\n",
    "optimizer = torch.optim.AdamW(model.parameters(), lr=lr)\n",
    "criterion = nn.BCELoss()\n",
    "\n",
    "for epoch in range(epochs):\n",
    "    train_loss = train(model, train_loader, optimizer, criterion, device)\n",
    "    val_loss = validate(model, val_loader, criterion, device)\n",
    "    print(f\"Epoch {epoch+1}/{epochs} - Train Loss: {train_loss:.4f} - Val Loss: {val_loss:.4f}\")"
   ],
   "id": "98b2818ae7cdc426",
   "outputs": [
    {
     "name": "stderr",
     "output_type": "stream",
     "text": [
      "<unknown>:3: SyntaxWarning: invalid escape sequence '\\w'\n",
      "<unknown>:3: SyntaxWarning: invalid escape sequence '\\w'\n",
      "<unknown>:4: SyntaxWarning: invalid escape sequence '\\w'\n",
      "<unknown>:4: SyntaxWarning: invalid escape sequence '\\w'\n",
      "<unknown>:4: SyntaxWarning: invalid escape sequence '\\w'\n",
      "<unknown>:4: SyntaxWarning: invalid escape sequence '\\w'\n",
      "<unknown>:3: SyntaxWarning: invalid escape sequence '\\w'\n",
      "<unknown>:4: SyntaxWarning: invalid escape sequence '\\w'\n",
      "<unknown>:3: SyntaxWarning: invalid escape sequence '\\w'\n",
      "<unknown>:3: SyntaxWarning: invalid escape sequence '\\w'\n",
      "<unknown>:4: SyntaxWarning: invalid escape sequence '\\w'\n",
      "<unknown>:4: SyntaxWarning: invalid escape sequence '\\w'\n",
      "<unknown>:4: SyntaxWarning: invalid escape sequence '\\w'\n",
      "<unknown>:4: SyntaxWarning: invalid escape sequence '\\w'\n",
      "<unknown>:3: SyntaxWarning: invalid escape sequence '\\w'\n",
      "<unknown>:3: SyntaxWarning: invalid escape sequence '\\w'\n",
      "<unknown>:3: SyntaxWarning: invalid escape sequence '\\w'\n",
      "<unknown>:3: SyntaxWarning: invalid escape sequence '\\w'\n",
      "<unknown>:3: SyntaxWarning: invalid escape sequence '\\w'\n",
      "<unknown>:4: SyntaxWarning: invalid escape sequence '\\w'\n",
      "<unknown>:3: SyntaxWarning: invalid escape sequence '\\w'\n",
      "<unknown>:3: SyntaxWarning: invalid escape sequence '\\w'\n",
      "<unknown>:4: SyntaxWarning: invalid escape sequence '\\w'\n",
      "<unknown>:4: SyntaxWarning: invalid escape sequence '\\w'\n",
      "<unknown>:3: SyntaxWarning: invalid escape sequence '\\w'\n",
      "<unknown>:3: SyntaxWarning: invalid escape sequence '\\w'\n",
      "<unknown>:4: SyntaxWarning: invalid escape sequence '\\w'\n",
      "<unknown>:4: SyntaxWarning: invalid escape sequence '\\w'\n",
      "<unknown>:3: SyntaxWarning: invalid escape sequence '\\w'\n",
      "<unknown>:4: SyntaxWarning: invalid escape sequence '\\w'\n",
      "<unknown>:4: SyntaxWarning: invalid escape sequence '\\w'\n",
      "<unknown>:4: SyntaxWarning: invalid escape sequence '\\w'\n",
      "<unknown>:4: SyntaxWarning: invalid escape sequence '\\w'\n",
      "<unknown>:3: SyntaxWarning: invalid escape sequence '\\w'\n",
      "<unknown>:4: SyntaxWarning: invalid escape sequence '\\w'\n",
      "<unknown>:3: SyntaxWarning: invalid escape sequence '\\w'\n",
      "<unknown>:3: SyntaxWarning: invalid escape sequence '\\w'\n",
      "<unknown>:3: SyntaxWarning: invalid escape sequence '\\w'\n",
      "<unknown>:3: SyntaxWarning: invalid escape sequence '\\w'\n",
      "<unknown>:4: SyntaxWarning: invalid escape sequence '\\w'\n",
      "<unknown>:3: SyntaxWarning: invalid escape sequence '\\w'\n",
      "<unknown>:4: SyntaxWarning: invalid escape sequence '\\w'\n",
      "<unknown>:4: SyntaxWarning: invalid escape sequence '\\w'\n",
      "<unknown>:3: SyntaxWarning: invalid escape sequence '\\w'\n",
      "<unknown>:4: SyntaxWarning: invalid escape sequence '\\w'\n",
      "<unknown>:3: SyntaxWarning: invalid escape sequence '\\w'\n",
      "<unknown>:3: SyntaxWarning: invalid escape sequence '\\w'\n",
      "<unknown>:4: SyntaxWarning: invalid escape sequence '\\w'\n",
      "<unknown>:4: SyntaxWarning: invalid escape sequence '\\w'\n",
      "<unknown>:3: SyntaxWarning: invalid escape sequence '\\w'\n",
      "<unknown>:4: SyntaxWarning: invalid escape sequence '\\w'\n",
      "<unknown>:3: SyntaxWarning: invalid escape sequence '\\w'\n",
      "<unknown>:4: SyntaxWarning: invalid escape sequence '\\w'\n",
      "<unknown>:3: SyntaxWarning: invalid escape sequence '\\w'\n"
     ]
    },
    {
     "name": "stdout",
     "output_type": "stream",
     "text": [
      "Epoch 1/3 - Train Loss: 0.3143 - Val Loss: 0.2971\n"
     ]
    },
    {
     "name": "stderr",
     "output_type": "stream",
     "text": [
      "<unknown>:4: SyntaxWarning: invalid escape sequence '\\w'\n",
      "<unknown>:4: SyntaxWarning: invalid escape sequence '\\w'\n",
      "<unknown>:4: SyntaxWarning: invalid escape sequence '\\w'\n",
      "<unknown>:4: SyntaxWarning: invalid escape sequence '\\w'\n",
      "<unknown>:3: SyntaxWarning: invalid escape sequence '\\w'\n",
      "<unknown>:3: SyntaxWarning: invalid escape sequence '\\w'\n",
      "<unknown>:4: SyntaxWarning: invalid escape sequence '\\w'\n",
      "<unknown>:3: SyntaxWarning: invalid escape sequence '\\w'\n",
      "<unknown>:4: SyntaxWarning: invalid escape sequence '\\w'\n",
      "<unknown>:3: SyntaxWarning: invalid escape sequence '\\w'\n",
      "<unknown>:3: SyntaxWarning: invalid escape sequence '\\w'\n",
      "<unknown>:3: SyntaxWarning: invalid escape sequence '\\w'\n",
      "<unknown>:4: SyntaxWarning: invalid escape sequence '\\w'\n",
      "<unknown>:4: SyntaxWarning: invalid escape sequence '\\w'\n",
      "<unknown>:3: SyntaxWarning: invalid escape sequence '\\w'\n",
      "<unknown>:4: SyntaxWarning: invalid escape sequence '\\w'\n",
      "<unknown>:3: SyntaxWarning: invalid escape sequence '\\w'\n",
      "<unknown>:3: SyntaxWarning: invalid escape sequence '\\w'\n",
      "<unknown>:3: SyntaxWarning: invalid escape sequence '\\w'\n",
      "<unknown>:4: SyntaxWarning: invalid escape sequence '\\w'\n",
      "<unknown>:4: SyntaxWarning: invalid escape sequence '\\w'\n",
      "<unknown>:3: SyntaxWarning: invalid escape sequence '\\w'\n",
      "<unknown>:4: SyntaxWarning: invalid escape sequence '\\w'\n",
      "<unknown>:4: SyntaxWarning: invalid escape sequence '\\w'\n",
      "<unknown>:3: SyntaxWarning: invalid escape sequence '\\w'\n",
      "<unknown>:4: SyntaxWarning: invalid escape sequence '\\w'\n",
      "<unknown>:4: SyntaxWarning: invalid escape sequence '\\w'\n",
      "<unknown>:3: SyntaxWarning: invalid escape sequence '\\w'\n",
      "<unknown>:4: SyntaxWarning: invalid escape sequence '\\w'\n",
      "<unknown>:4: SyntaxWarning: invalid escape sequence '\\w'\n",
      "<unknown>:4: SyntaxWarning: invalid escape sequence '\\w'\n",
      "<unknown>:4: SyntaxWarning: invalid escape sequence '\\w'\n",
      "<unknown>:3: SyntaxWarning: invalid escape sequence '\\w'\n",
      "<unknown>:3: SyntaxWarning: invalid escape sequence '\\w'\n",
      "<unknown>:4: SyntaxWarning: invalid escape sequence '\\w'\n",
      "<unknown>:3: SyntaxWarning: invalid escape sequence '\\w'\n",
      "<unknown>:4: SyntaxWarning: invalid escape sequence '\\w'\n",
      "<unknown>:3: SyntaxWarning: invalid escape sequence '\\w'\n",
      "<unknown>:3: SyntaxWarning: invalid escape sequence '\\w'\n",
      "<unknown>:3: SyntaxWarning: invalid escape sequence '\\w'\n",
      "<unknown>:3: SyntaxWarning: invalid escape sequence '\\w'\n",
      "<unknown>:3: SyntaxWarning: invalid escape sequence '\\w'\n",
      "<unknown>:4: SyntaxWarning: invalid escape sequence '\\w'\n",
      "<unknown>:3: SyntaxWarning: invalid escape sequence '\\w'\n",
      "<unknown>:4: SyntaxWarning: invalid escape sequence '\\w'\n",
      "<unknown>:3: SyntaxWarning: invalid escape sequence '\\w'\n",
      "<unknown>:3: SyntaxWarning: invalid escape sequence '\\w'\n",
      "<unknown>:4: SyntaxWarning: invalid escape sequence '\\w'\n",
      "<unknown>:4: SyntaxWarning: invalid escape sequence '\\w'\n",
      "<unknown>:3: SyntaxWarning: invalid escape sequence '\\w'\n",
      "<unknown>:4: SyntaxWarning: invalid escape sequence '\\w'\n",
      "<unknown>:3: SyntaxWarning: invalid escape sequence '\\w'\n",
      "<unknown>:4: SyntaxWarning: invalid escape sequence '\\w'\n",
      "<unknown>:3: SyntaxWarning: invalid escape sequence '\\w'\n"
     ]
    },
    {
     "name": "stdout",
     "output_type": "stream",
     "text": [
      "Epoch 2/3 - Train Loss: 0.2946 - Val Loss: 0.3083\n"
     ]
    },
    {
     "name": "stderr",
     "output_type": "stream",
     "text": [
      "<unknown>:4: SyntaxWarning: invalid escape sequence '\\w'\n",
      "<unknown>:4: SyntaxWarning: invalid escape sequence '\\w'\n",
      "<unknown>:3: SyntaxWarning: invalid escape sequence '\\w'\n",
      "<unknown>:4: SyntaxWarning: invalid escape sequence '\\w'\n",
      "<unknown>:4: SyntaxWarning: invalid escape sequence '\\w'\n",
      "<unknown>:3: SyntaxWarning: invalid escape sequence '\\w'\n",
      "<unknown>:4: SyntaxWarning: invalid escape sequence '\\w'\n",
      "<unknown>:3: SyntaxWarning: invalid escape sequence '\\w'\n",
      "<unknown>:4: SyntaxWarning: invalid escape sequence '\\w'\n",
      "<unknown>:3: SyntaxWarning: invalid escape sequence '\\w'\n",
      "<unknown>:4: SyntaxWarning: invalid escape sequence '\\w'\n",
      "<unknown>:4: SyntaxWarning: invalid escape sequence '\\w'\n",
      "<unknown>:3: SyntaxWarning: invalid escape sequence '\\w'\n",
      "<unknown>:4: SyntaxWarning: invalid escape sequence '\\w'\n",
      "<unknown>:3: SyntaxWarning: invalid escape sequence '\\w'\n",
      "<unknown>:4: SyntaxWarning: invalid escape sequence '\\w'\n",
      "<unknown>:4: SyntaxWarning: invalid escape sequence '\\w'\n",
      "<unknown>:4: SyntaxWarning: invalid escape sequence '\\w'\n",
      "<unknown>:3: SyntaxWarning: invalid escape sequence '\\w'\n",
      "<unknown>:3: SyntaxWarning: invalid escape sequence '\\w'\n",
      "<unknown>:3: SyntaxWarning: invalid escape sequence '\\w'\n",
      "<unknown>:4: SyntaxWarning: invalid escape sequence '\\w'\n",
      "<unknown>:4: SyntaxWarning: invalid escape sequence '\\w'\n",
      "<unknown>:4: SyntaxWarning: invalid escape sequence '\\w'\n",
      "<unknown>:3: SyntaxWarning: invalid escape sequence '\\w'\n",
      "<unknown>:4: SyntaxWarning: invalid escape sequence '\\w'\n",
      "<unknown>:3: SyntaxWarning: invalid escape sequence '\\w'\n",
      "<unknown>:3: SyntaxWarning: invalid escape sequence '\\w'\n",
      "<unknown>:3: SyntaxWarning: invalid escape sequence '\\w'\n",
      "<unknown>:3: SyntaxWarning: invalid escape sequence '\\w'\n",
      "<unknown>:4: SyntaxWarning: invalid escape sequence '\\w'\n",
      "<unknown>:3: SyntaxWarning: invalid escape sequence '\\w'\n",
      "<unknown>:4: SyntaxWarning: invalid escape sequence '\\w'\n",
      "<unknown>:4: SyntaxWarning: invalid escape sequence '\\w'\n",
      "<unknown>:3: SyntaxWarning: invalid escape sequence '\\w'\n",
      "<unknown>:3: SyntaxWarning: invalid escape sequence '\\w'\n",
      "<unknown>:3: SyntaxWarning: invalid escape sequence '\\w'\n",
      "<unknown>:3: SyntaxWarning: invalid escape sequence '\\w'\n",
      "<unknown>:3: SyntaxWarning: invalid escape sequence '\\w'\n",
      "<unknown>:4: SyntaxWarning: invalid escape sequence '\\w'\n",
      "<unknown>:4: SyntaxWarning: invalid escape sequence '\\w'\n",
      "<unknown>:3: SyntaxWarning: invalid escape sequence '\\w'\n",
      "<unknown>:4: SyntaxWarning: invalid escape sequence '\\w'\n",
      "<unknown>:3: SyntaxWarning: invalid escape sequence '\\w'\n",
      "<unknown>:4: SyntaxWarning: invalid escape sequence '\\w'\n",
      "<unknown>:3: SyntaxWarning: invalid escape sequence '\\w'\n",
      "<unknown>:3: SyntaxWarning: invalid escape sequence '\\w'\n",
      "<unknown>:4: SyntaxWarning: invalid escape sequence '\\w'\n",
      "<unknown>:4: SyntaxWarning: invalid escape sequence '\\w'\n",
      "<unknown>:3: SyntaxWarning: invalid escape sequence '\\w'\n",
      "<unknown>:4: SyntaxWarning: invalid escape sequence '\\w'\n",
      "<unknown>:3: SyntaxWarning: invalid escape sequence '\\w'\n",
      "<unknown>:4: SyntaxWarning: invalid escape sequence '\\w'\n",
      "<unknown>:3: SyntaxWarning: invalid escape sequence '\\w'\n"
     ]
    },
    {
     "name": "stdout",
     "output_type": "stream",
     "text": [
      "Epoch 3/3 - Train Loss: 0.2916 - Val Loss: 0.2761\n"
     ]
    }
   ],
   "execution_count": 18
  },
  {
   "metadata": {
    "ExecuteTime": {
     "end_time": "2025-05-01T14:10:19.954405Z",
     "start_time": "2025-05-01T14:10:19.111198Z"
    }
   },
   "cell_type": "code",
   "source": [
    "model.bert.save_pretrained(\"Models/finetuned_codebert/bert\")\n",
    "tokenizer.save_pretrained(\"Models/finetuned_codebert/bert\")\n",
    "torch.save(model.fc.state_dict(), \"Models/finetuned_model/fc_head.pth\")"
   ],
   "id": "61597ef52baa96dd",
   "outputs": [],
   "execution_count": 19
  }
 ],
 "metadata": {
  "kernelspec": {
   "display_name": "Python 3",
   "language": "python",
   "name": "python3"
  },
  "language_info": {
   "codemirror_mode": {
    "name": "ipython",
    "version": 2
   },
   "file_extension": ".py",
   "mimetype": "text/x-python",
   "name": "python",
   "nbconvert_exporter": "python",
   "pygments_lexer": "ipython2",
   "version": "2.7.6"
  }
 },
 "nbformat": 4,
 "nbformat_minor": 5
}
